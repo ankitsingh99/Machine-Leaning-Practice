{
 "metadata": {
  "language_info": {
   "codemirror_mode": {
    "name": "ipython",
    "version": 3
   },
   "file_extension": ".py",
   "mimetype": "text/x-python",
   "name": "python",
   "nbconvert_exporter": "python",
   "pygments_lexer": "ipython3",
   "version": "3.7.7-final"
  },
  "orig_nbformat": 2,
  "kernelspec": {
   "name": "python37464bitidpconda121b4ef938db4e65a484b4886df9b5ad",
   "display_name": "Python 3.7.4 64-bit ('idp': conda)",
   "language": "python"
  }
 },
 "nbformat": 4,
 "nbformat_minor": 2,
 "cells": [
  {
   "cell_type": "code",
   "execution_count": 90,
   "metadata": {},
   "outputs": [],
   "source": [
    "import numpy as np\n",
    "import modin.pandas as pd\n",
    "import quandl as qd\n",
    "import math\n",
    "from sklearn import preprocessing\n",
    "from sklearn.model_selection import cross_validate\n",
    "from sklearn.model_selection import train_test_split\n",
    "from sklearn import svm\n",
    "from sklearn.linear_model import LinearRegression"
   ]
  },
  {
   "cell_type": "code",
   "execution_count": 91,
   "metadata": {},
   "outputs": [],
   "source": [
    "qd.ApiConfig.api_key = 'jNYadxyk6igH2w32z-a_'"
   ]
  },
  {
   "cell_type": "code",
   "execution_count": 92,
   "metadata": {},
   "outputs": [],
   "source": [
    "df=qd.get('WIKI/GOOGL')"
   ]
  },
  {
   "cell_type": "code",
   "execution_count": 93,
   "metadata": {},
   "outputs": [
    {
     "output_type": "execute_result",
     "data": {
      "text/plain": [
       "               Open     High      Low     Close      Volume  Ex-Dividend  \\\n",
       "Date                                                                       \n",
       "2004-08-19   100.01   104.06    95.96   100.335  44659000.0          0.0   \n",
       "2004-08-20   101.01   109.08   100.50   108.310  22834300.0          0.0   \n",
       "2004-08-23   110.76   113.48   109.05   109.400  18256100.0          0.0   \n",
       "2004-08-24   111.24   111.60   103.57   104.870  15247300.0          0.0   \n",
       "2004-08-25   104.76   108.00   103.88   106.000   9188600.0          0.0   \n",
       "...             ...      ...      ...       ...         ...          ...   \n",
       "2018-03-21  1092.57  1108.70  1087.21  1094.000   1990515.0          0.0   \n",
       "2018-03-22  1080.01  1083.92  1049.64  1053.150   3418154.0          0.0   \n",
       "2018-03-23  1051.37  1066.78  1024.87  1026.550   2413517.0          0.0   \n",
       "2018-03-26  1050.60  1059.27  1010.58  1054.090   3272409.0          0.0   \n",
       "2018-03-27  1063.90  1064.54   997.62  1006.940   2940957.0          0.0   \n",
       "\n",
       "            Split Ratio    Adj. Open    Adj. High     Adj. Low   Adj. Close  \\\n",
       "Date                                                                          \n",
       "2004-08-19          1.0    50.159839    52.191109    48.128568    50.322842   \n",
       "2004-08-20          1.0    50.661387    54.708881    50.405597    54.322689   \n",
       "2004-08-23          1.0    55.551482    56.915693    54.693835    54.869377   \n",
       "2004-08-24          1.0    55.792225    55.972783    51.945350    52.597363   \n",
       "2004-08-25          1.0    52.542193    54.167209    52.100830    53.164113   \n",
       "...                 ...          ...          ...          ...          ...   \n",
       "2018-03-21          1.0  1092.570000  1108.700000  1087.210000  1094.000000   \n",
       "2018-03-22          1.0  1080.010000  1083.920000  1049.640000  1053.150000   \n",
       "2018-03-23          1.0  1051.370000  1066.780000  1024.870000  1026.550000   \n",
       "2018-03-26          1.0  1050.600000  1059.270000  1010.580000  1054.090000   \n",
       "2018-03-27          1.0  1063.900000  1064.540000   997.620000  1006.940000   \n",
       "\n",
       "            Adj. Volume  \n",
       "Date                     \n",
       "2004-08-19   44659000.0  \n",
       "2004-08-20   22834300.0  \n",
       "2004-08-23   18256100.0  \n",
       "2004-08-24   15247300.0  \n",
       "2004-08-25    9188600.0  \n",
       "...                 ...  \n",
       "2018-03-21    1990515.0  \n",
       "2018-03-22    3418154.0  \n",
       "2018-03-23    2413517.0  \n",
       "2018-03-26    3272409.0  \n",
       "2018-03-27    2940957.0  \n",
       "\n",
       "[3424 rows x 12 columns]"
      ],
      "text/html": "<div>\n<style scoped>\n    .dataframe tbody tr th:only-of-type {\n        vertical-align: middle;\n    }\n\n    .dataframe tbody tr th {\n        vertical-align: top;\n    }\n\n    .dataframe thead th {\n        text-align: right;\n    }\n</style>\n<table border=\"1\" class=\"dataframe\">\n  <thead>\n    <tr style=\"text-align: right;\">\n      <th></th>\n      <th>Open</th>\n      <th>High</th>\n      <th>Low</th>\n      <th>Close</th>\n      <th>Volume</th>\n      <th>Ex-Dividend</th>\n      <th>Split Ratio</th>\n      <th>Adj. Open</th>\n      <th>Adj. High</th>\n      <th>Adj. Low</th>\n      <th>Adj. Close</th>\n      <th>Adj. Volume</th>\n    </tr>\n    <tr>\n      <th>Date</th>\n      <th></th>\n      <th></th>\n      <th></th>\n      <th></th>\n      <th></th>\n      <th></th>\n      <th></th>\n      <th></th>\n      <th></th>\n      <th></th>\n      <th></th>\n      <th></th>\n    </tr>\n  </thead>\n  <tbody>\n    <tr>\n      <th>2004-08-19</th>\n      <td>100.01</td>\n      <td>104.06</td>\n      <td>95.96</td>\n      <td>100.335</td>\n      <td>44659000.0</td>\n      <td>0.0</td>\n      <td>1.0</td>\n      <td>50.159839</td>\n      <td>52.191109</td>\n      <td>48.128568</td>\n      <td>50.322842</td>\n      <td>44659000.0</td>\n    </tr>\n    <tr>\n      <th>2004-08-20</th>\n      <td>101.01</td>\n      <td>109.08</td>\n      <td>100.50</td>\n      <td>108.310</td>\n      <td>22834300.0</td>\n      <td>0.0</td>\n      <td>1.0</td>\n      <td>50.661387</td>\n      <td>54.708881</td>\n      <td>50.405597</td>\n      <td>54.322689</td>\n      <td>22834300.0</td>\n    </tr>\n    <tr>\n      <th>2004-08-23</th>\n      <td>110.76</td>\n      <td>113.48</td>\n      <td>109.05</td>\n      <td>109.400</td>\n      <td>18256100.0</td>\n      <td>0.0</td>\n      <td>1.0</td>\n      <td>55.551482</td>\n      <td>56.915693</td>\n      <td>54.693835</td>\n      <td>54.869377</td>\n      <td>18256100.0</td>\n    </tr>\n    <tr>\n      <th>2004-08-24</th>\n      <td>111.24</td>\n      <td>111.60</td>\n      <td>103.57</td>\n      <td>104.870</td>\n      <td>15247300.0</td>\n      <td>0.0</td>\n      <td>1.0</td>\n      <td>55.792225</td>\n      <td>55.972783</td>\n      <td>51.945350</td>\n      <td>52.597363</td>\n      <td>15247300.0</td>\n    </tr>\n    <tr>\n      <th>2004-08-25</th>\n      <td>104.76</td>\n      <td>108.00</td>\n      <td>103.88</td>\n      <td>106.000</td>\n      <td>9188600.0</td>\n      <td>0.0</td>\n      <td>1.0</td>\n      <td>52.542193</td>\n      <td>54.167209</td>\n      <td>52.100830</td>\n      <td>53.164113</td>\n      <td>9188600.0</td>\n    </tr>\n    <tr>\n      <th>...</th>\n      <td>...</td>\n      <td>...</td>\n      <td>...</td>\n      <td>...</td>\n      <td>...</td>\n      <td>...</td>\n      <td>...</td>\n      <td>...</td>\n      <td>...</td>\n      <td>...</td>\n      <td>...</td>\n      <td>...</td>\n    </tr>\n    <tr>\n      <th>2018-03-21</th>\n      <td>1092.57</td>\n      <td>1108.70</td>\n      <td>1087.21</td>\n      <td>1094.000</td>\n      <td>1990515.0</td>\n      <td>0.0</td>\n      <td>1.0</td>\n      <td>1092.570000</td>\n      <td>1108.700000</td>\n      <td>1087.210000</td>\n      <td>1094.000000</td>\n      <td>1990515.0</td>\n    </tr>\n    <tr>\n      <th>2018-03-22</th>\n      <td>1080.01</td>\n      <td>1083.92</td>\n      <td>1049.64</td>\n      <td>1053.150</td>\n      <td>3418154.0</td>\n      <td>0.0</td>\n      <td>1.0</td>\n      <td>1080.010000</td>\n      <td>1083.920000</td>\n      <td>1049.640000</td>\n      <td>1053.150000</td>\n      <td>3418154.0</td>\n    </tr>\n    <tr>\n      <th>2018-03-23</th>\n      <td>1051.37</td>\n      <td>1066.78</td>\n      <td>1024.87</td>\n      <td>1026.550</td>\n      <td>2413517.0</td>\n      <td>0.0</td>\n      <td>1.0</td>\n      <td>1051.370000</td>\n      <td>1066.780000</td>\n      <td>1024.870000</td>\n      <td>1026.550000</td>\n      <td>2413517.0</td>\n    </tr>\n    <tr>\n      <th>2018-03-26</th>\n      <td>1050.60</td>\n      <td>1059.27</td>\n      <td>1010.58</td>\n      <td>1054.090</td>\n      <td>3272409.0</td>\n      <td>0.0</td>\n      <td>1.0</td>\n      <td>1050.600000</td>\n      <td>1059.270000</td>\n      <td>1010.580000</td>\n      <td>1054.090000</td>\n      <td>3272409.0</td>\n    </tr>\n    <tr>\n      <th>2018-03-27</th>\n      <td>1063.90</td>\n      <td>1064.54</td>\n      <td>997.62</td>\n      <td>1006.940</td>\n      <td>2940957.0</td>\n      <td>0.0</td>\n      <td>1.0</td>\n      <td>1063.900000</td>\n      <td>1064.540000</td>\n      <td>997.620000</td>\n      <td>1006.940000</td>\n      <td>2940957.0</td>\n    </tr>\n  </tbody>\n</table>\n<p>3424 rows × 12 columns</p>\n</div>"
     },
     "metadata": {},
     "execution_count": 93
    }
   ],
   "source": [
    "df"
   ]
  },
  {
   "cell_type": "code",
   "execution_count": 94,
   "metadata": {},
   "outputs": [
    {
     "output_type": "execute_result",
     "data": {
      "text/plain": [
       "            Adj. Open  Adj. High  Adj. Low  Adj. Close  Adj. Volume\n",
       "Date                                                               \n",
       "2018-02-28    1122.00    1127.65   1103.00     1103.92    2431023.0\n",
       "2018-03-01    1109.54    1111.27   1067.29     1071.41    2766856.0\n",
       "2018-03-02    1057.98    1086.89   1050.11     1084.14    2508145.0\n",
       "2018-03-05    1078.13    1101.18   1072.27     1094.76    1432369.0\n",
       "2018-03-06    1102.10    1105.63   1094.50     1100.90    1169068.0\n",
       "2018-03-07    1092.82    1116.20   1089.91     1115.04    1537429.0\n",
       "2018-03-08    1117.20    1131.44   1117.20     1129.38    1510478.0\n",
       "2018-03-09    1139.50    1161.00   1134.29     1160.84    2070174.0\n",
       "2018-03-12    1165.05    1178.16   1159.20     1165.93    2129297.0\n",
       "2018-03-13    1171.83    1178.00   1134.57     1139.91    2129435.0\n",
       "2018-03-14    1145.80    1159.76   1142.35     1148.89    2033697.0\n",
       "2018-03-15    1149.57    1162.50   1135.66     1150.61    1623868.0\n",
       "2018-03-16    1155.35    1156.81   1131.36     1134.42    2654602.0\n",
       "2018-03-19    1117.76    1119.37   1088.92     1100.07    3076349.0\n",
       "2018-03-20    1098.40    1105.55   1082.42     1095.80    2709310.0\n",
       "2018-03-21    1092.57    1108.70   1087.21     1094.00    1990515.0\n",
       "2018-03-22    1080.01    1083.92   1049.64     1053.15    3418154.0\n",
       "2018-03-23    1051.37    1066.78   1024.87     1026.55    2413517.0\n",
       "2018-03-26    1050.60    1059.27   1010.58     1054.09    3272409.0\n",
       "2018-03-27    1063.90    1064.54    997.62     1006.94    2940957.0"
      ],
      "text/html": "<div>\n<style scoped>\n    .dataframe tbody tr th:only-of-type {\n        vertical-align: middle;\n    }\n\n    .dataframe tbody tr th {\n        vertical-align: top;\n    }\n\n    .dataframe thead th {\n        text-align: right;\n    }\n</style>\n<table border=\"1\" class=\"dataframe\">\n  <thead>\n    <tr style=\"text-align: right;\">\n      <th></th>\n      <th>Adj. Open</th>\n      <th>Adj. High</th>\n      <th>Adj. Low</th>\n      <th>Adj. Close</th>\n      <th>Adj. Volume</th>\n    </tr>\n    <tr>\n      <th>Date</th>\n      <th></th>\n      <th></th>\n      <th></th>\n      <th></th>\n      <th></th>\n    </tr>\n  </thead>\n  <tbody>\n    <tr>\n      <th>2018-02-28</th>\n      <td>1122.00</td>\n      <td>1127.65</td>\n      <td>1103.00</td>\n      <td>1103.92</td>\n      <td>2431023.0</td>\n    </tr>\n    <tr>\n      <th>2018-03-01</th>\n      <td>1109.54</td>\n      <td>1111.27</td>\n      <td>1067.29</td>\n      <td>1071.41</td>\n      <td>2766856.0</td>\n    </tr>\n    <tr>\n      <th>2018-03-02</th>\n      <td>1057.98</td>\n      <td>1086.89</td>\n      <td>1050.11</td>\n      <td>1084.14</td>\n      <td>2508145.0</td>\n    </tr>\n    <tr>\n      <th>2018-03-05</th>\n      <td>1078.13</td>\n      <td>1101.18</td>\n      <td>1072.27</td>\n      <td>1094.76</td>\n      <td>1432369.0</td>\n    </tr>\n    <tr>\n      <th>2018-03-06</th>\n      <td>1102.10</td>\n      <td>1105.63</td>\n      <td>1094.50</td>\n      <td>1100.90</td>\n      <td>1169068.0</td>\n    </tr>\n    <tr>\n      <th>2018-03-07</th>\n      <td>1092.82</td>\n      <td>1116.20</td>\n      <td>1089.91</td>\n      <td>1115.04</td>\n      <td>1537429.0</td>\n    </tr>\n    <tr>\n      <th>2018-03-08</th>\n      <td>1117.20</td>\n      <td>1131.44</td>\n      <td>1117.20</td>\n      <td>1129.38</td>\n      <td>1510478.0</td>\n    </tr>\n    <tr>\n      <th>2018-03-09</th>\n      <td>1139.50</td>\n      <td>1161.00</td>\n      <td>1134.29</td>\n      <td>1160.84</td>\n      <td>2070174.0</td>\n    </tr>\n    <tr>\n      <th>2018-03-12</th>\n      <td>1165.05</td>\n      <td>1178.16</td>\n      <td>1159.20</td>\n      <td>1165.93</td>\n      <td>2129297.0</td>\n    </tr>\n    <tr>\n      <th>2018-03-13</th>\n      <td>1171.83</td>\n      <td>1178.00</td>\n      <td>1134.57</td>\n      <td>1139.91</td>\n      <td>2129435.0</td>\n    </tr>\n    <tr>\n      <th>2018-03-14</th>\n      <td>1145.80</td>\n      <td>1159.76</td>\n      <td>1142.35</td>\n      <td>1148.89</td>\n      <td>2033697.0</td>\n    </tr>\n    <tr>\n      <th>2018-03-15</th>\n      <td>1149.57</td>\n      <td>1162.50</td>\n      <td>1135.66</td>\n      <td>1150.61</td>\n      <td>1623868.0</td>\n    </tr>\n    <tr>\n      <th>2018-03-16</th>\n      <td>1155.35</td>\n      <td>1156.81</td>\n      <td>1131.36</td>\n      <td>1134.42</td>\n      <td>2654602.0</td>\n    </tr>\n    <tr>\n      <th>2018-03-19</th>\n      <td>1117.76</td>\n      <td>1119.37</td>\n      <td>1088.92</td>\n      <td>1100.07</td>\n      <td>3076349.0</td>\n    </tr>\n    <tr>\n      <th>2018-03-20</th>\n      <td>1098.40</td>\n      <td>1105.55</td>\n      <td>1082.42</td>\n      <td>1095.80</td>\n      <td>2709310.0</td>\n    </tr>\n    <tr>\n      <th>2018-03-21</th>\n      <td>1092.57</td>\n      <td>1108.70</td>\n      <td>1087.21</td>\n      <td>1094.00</td>\n      <td>1990515.0</td>\n    </tr>\n    <tr>\n      <th>2018-03-22</th>\n      <td>1080.01</td>\n      <td>1083.92</td>\n      <td>1049.64</td>\n      <td>1053.15</td>\n      <td>3418154.0</td>\n    </tr>\n    <tr>\n      <th>2018-03-23</th>\n      <td>1051.37</td>\n      <td>1066.78</td>\n      <td>1024.87</td>\n      <td>1026.55</td>\n      <td>2413517.0</td>\n    </tr>\n    <tr>\n      <th>2018-03-26</th>\n      <td>1050.60</td>\n      <td>1059.27</td>\n      <td>1010.58</td>\n      <td>1054.09</td>\n      <td>3272409.0</td>\n    </tr>\n    <tr>\n      <th>2018-03-27</th>\n      <td>1063.90</td>\n      <td>1064.54</td>\n      <td>997.62</td>\n      <td>1006.94</td>\n      <td>2940957.0</td>\n    </tr>\n  </tbody>\n</table>\n</div>"
     },
     "metadata": {},
     "execution_count": 94
    }
   ],
   "source": [
    "df[['Adj. Open','Adj. High','Adj. Low','Adj. Close','Adj. Volume']].tail(20)"
   ]
  },
  {
   "cell_type": "code",
   "execution_count": 95,
   "metadata": {},
   "outputs": [],
   "source": [
    "df['HL_PCT'] = (df['Adj. High'] - df['Adj. Close']) / df['Adj. Close']*100.0"
   ]
  },
  {
   "cell_type": "code",
   "execution_count": 96,
   "metadata": {},
   "outputs": [],
   "source": [
    "df['PCT_change'] = (df['Adj. Close'] - df['Adj. Open']) / df['Adj. Open']*100.0"
   ]
  },
  {
   "cell_type": "code",
   "execution_count": 97,
   "metadata": {},
   "outputs": [],
   "source": [
    "df=df[['Adj. Close','HL_PCT', 'PCT_change', 'Adj. Volume']]"
   ]
  },
  {
   "cell_type": "code",
   "execution_count": 98,
   "metadata": {},
   "outputs": [
    {
     "output_type": "execute_result",
     "data": {
      "text/plain": [
       "            Adj. Close    HL_PCT  PCT_change  Adj. Volume\n",
       "Date                                                     \n",
       "2018-03-14     1148.89  0.946131    0.269681    2033697.0\n",
       "2018-03-15     1150.61  1.033365    0.090469    1623868.0\n",
       "2018-03-16     1134.42  1.973696   -1.811572    2654602.0\n",
       "2018-03-19     1100.07  1.754434   -1.582630    3076349.0\n",
       "2018-03-20     1095.80  0.889761   -0.236708    2709310.0\n",
       "2018-03-21     1094.00  1.343693    0.130884    1990515.0\n",
       "2018-03-22     1053.15  2.921711   -2.487014    3418154.0\n",
       "2018-03-23     1026.55  3.918952   -2.360729    2413517.0\n",
       "2018-03-26     1054.09  0.491419    0.332191    3272409.0\n",
       "2018-03-27     1006.94  5.720301   -5.353887    2940957.0"
      ],
      "text/html": "<div>\n<style scoped>\n    .dataframe tbody tr th:only-of-type {\n        vertical-align: middle;\n    }\n\n    .dataframe tbody tr th {\n        vertical-align: top;\n    }\n\n    .dataframe thead th {\n        text-align: right;\n    }\n</style>\n<table border=\"1\" class=\"dataframe\">\n  <thead>\n    <tr style=\"text-align: right;\">\n      <th></th>\n      <th>Adj. Close</th>\n      <th>HL_PCT</th>\n      <th>PCT_change</th>\n      <th>Adj. Volume</th>\n    </tr>\n    <tr>\n      <th>Date</th>\n      <th></th>\n      <th></th>\n      <th></th>\n      <th></th>\n    </tr>\n  </thead>\n  <tbody>\n    <tr>\n      <th>2018-03-14</th>\n      <td>1148.89</td>\n      <td>0.946131</td>\n      <td>0.269681</td>\n      <td>2033697.0</td>\n    </tr>\n    <tr>\n      <th>2018-03-15</th>\n      <td>1150.61</td>\n      <td>1.033365</td>\n      <td>0.090469</td>\n      <td>1623868.0</td>\n    </tr>\n    <tr>\n      <th>2018-03-16</th>\n      <td>1134.42</td>\n      <td>1.973696</td>\n      <td>-1.811572</td>\n      <td>2654602.0</td>\n    </tr>\n    <tr>\n      <th>2018-03-19</th>\n      <td>1100.07</td>\n      <td>1.754434</td>\n      <td>-1.582630</td>\n      <td>3076349.0</td>\n    </tr>\n    <tr>\n      <th>2018-03-20</th>\n      <td>1095.80</td>\n      <td>0.889761</td>\n      <td>-0.236708</td>\n      <td>2709310.0</td>\n    </tr>\n    <tr>\n      <th>2018-03-21</th>\n      <td>1094.00</td>\n      <td>1.343693</td>\n      <td>0.130884</td>\n      <td>1990515.0</td>\n    </tr>\n    <tr>\n      <th>2018-03-22</th>\n      <td>1053.15</td>\n      <td>2.921711</td>\n      <td>-2.487014</td>\n      <td>3418154.0</td>\n    </tr>\n    <tr>\n      <th>2018-03-23</th>\n      <td>1026.55</td>\n      <td>3.918952</td>\n      <td>-2.360729</td>\n      <td>2413517.0</td>\n    </tr>\n    <tr>\n      <th>2018-03-26</th>\n      <td>1054.09</td>\n      <td>0.491419</td>\n      <td>0.332191</td>\n      <td>3272409.0</td>\n    </tr>\n    <tr>\n      <th>2018-03-27</th>\n      <td>1006.94</td>\n      <td>5.720301</td>\n      <td>-5.353887</td>\n      <td>2940957.0</td>\n    </tr>\n  </tbody>\n</table>\n</div>"
     },
     "metadata": {},
     "execution_count": 98
    }
   ],
   "source": [
    "df.tail(10)"
   ]
  },
  {
   "cell_type": "code",
   "execution_count": 99,
   "metadata": {},
   "outputs": [],
   "source": [
    "forecast_col = \"Adj. Close\"\n",
    "df.fillna(-99999, inplace=True)"
   ]
  },
  {
   "cell_type": "code",
   "execution_count": 100,
   "metadata": {},
   "outputs": [],
   "source": [
    "forecast_out = int(math.ceil(0.1*len(df)))"
   ]
  },
  {
   "cell_type": "code",
   "execution_count": 101,
   "metadata": {},
   "outputs": [],
   "source": [
    "df['label']= df[forecast_col].shift(-forecast_out)"
   ]
  },
  {
   "cell_type": "code",
   "execution_count": 102,
   "metadata": {},
   "outputs": [],
   "source": [
    "df.dropna(inplace=True)"
   ]
  },
  {
   "cell_type": "code",
   "execution_count": 103,
   "metadata": {},
   "outputs": [],
   "source": [
    "X = np.array(df.drop(['label'],1))\n",
    "Y = np.array(df['label'])"
   ]
  },
  {
   "cell_type": "code",
   "execution_count": 104,
   "metadata": {},
   "outputs": [],
   "source": [
    "X = preprocessing.scale(X)"
   ]
  },
  {
   "cell_type": "code",
   "execution_count": 105,
   "metadata": {},
   "outputs": [
    {
     "output_type": "execute_result",
     "data": {
      "text/plain": [
       "0.8807589752919109"
      ]
     },
     "metadata": {},
     "execution_count": 105
    }
   ],
   "source": [
    "X_train, X_test, Y_train, Y_test = train_test_split(X,Y, test_size=0.8)\n",
    "clf = LinearRegression()\n",
    "clf.fit(X_train,Y_train)\n",
    "model_accuracy= clf.score(X_test, Y_test)\n",
    "model_accuracy"
   ]
  },
  {
   "cell_type": "code",
   "execution_count": 110,
   "metadata": {},
   "outputs": [
    {
     "output_type": "execute_result",
     "data": {
      "text/plain": [
       "SVR(C=1.0, cache_size=200, coef0=0.0, degree=3, epsilon=0.1, gamma='scale',\n",
       "    kernel='rbf', max_iter=-1, shrinking=True, tol=0.001, verbose=False)"
      ]
     },
     "metadata": {},
     "execution_count": 110
    }
   ],
   "source": [
    "clf = svm.SVR()\n",
    "clf.fit(X_train,Y_train)"
   ]
  },
  {
   "cell_type": "code",
   "execution_count": 112,
   "metadata": {},
   "outputs": [
    {
     "output_type": "execute_result",
     "data": {
      "text/plain": [
       "0.29119637153138467"
      ]
     },
     "metadata": {},
     "execution_count": 112
    }
   ],
   "source": [
    "model_accuracy= clf.score(X_test,Y_test)\n",
    "model_accuracy"
   ]
  },
  {
   "cell_type": "code",
   "execution_count": null,
   "metadata": {},
   "outputs": [],
   "source": []
  }
 ]
}